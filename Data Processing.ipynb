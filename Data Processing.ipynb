{
 "cells": [
  {
   "cell_type": "markdown",
   "metadata": {},
   "source": [
    "# Raw data importing\n",
    "Our primary goal here is to import, interpolate, and extend our bike riding GPS data. It'll be somewhat complicated as it is not small task on code, but using vectorization on all processes will keep execution really fast. We have for this task about 1.7M datapoints. Each datapoint corresponds to a fancy **one point in space time**, i.e. one point made of 4 dimensions of timestamp, latitude, longitude and elevation. We hope that connection each one sequentially on time will render a path that a biker rode. To guarantee bookeeping and post processing capabilities, we will record the point id, ride id and rider id."
   ]
  },
  {
   "cell_type": "code",
   "execution_count": 2,
   "metadata": {
    "collapsed": true
   },
   "outputs": [],
   "source": [
    "# import needed packages\n",
    "import gpxpy\n",
    "import datetime \n",
    "import time\n",
    "import matplotlib.pyplot as plt\n",
    "import matplotlib.colors as colors\n",
    "import os\n",
    "import numpy as np\n",
    "import re\n",
    "import sys\n",
    "import pandas as pd\n",
    "import pickle as pk\n",
    "from tqdm import tqdm_notebook as tqdm\n",
    "from geopy.distance import great_circle\n",
    "# from scipy.signal import gaussian\n",
    "# from scipy.ndimage import filters\n",
    "from scipy.ndimage.filters import gaussian_filter\n",
    "from mpl_toolkits.axes_grid1 import make_axes_locatable\n",
    "import nvector as nv\n",
    "from pandas.plotting import andrews_curves"
   ]
  },
  {
   "cell_type": "code",
   "execution_count": 3,
   "metadata": {
    "scrolled": true
   },
   "outputs": [
    {
     "name": "stdout",
     "output_type": "stream",
     "text": [
      "(1739684, 7)\n"
     ]
    }
   ],
   "source": [
    "# import the gpx data\n",
    "gpx_filename_pattern = re.compile(\"(gpx)$\")\n",
    "def build_meta(gpx): \n",
    "    meta = {\n",
    "        \"tracks\": 0,\n",
    "        \"segments\": 0,\n",
    "        \"points\": 0\n",
    "    }\n",
    "    for track in gpx.tracks:\n",
    "        meta[\"tracks\"] += 1\n",
    "        for segment in track.segments:\n",
    "            meta[\"segments\"] += 1\n",
    "            for point in segment.points:\n",
    "                meta[\"points\"] += 1\n",
    "    return meta\n",
    "\n",
    "def import_gpx_file(path, filename):\n",
    "    build_meta\n",
    "    file = open(path+'/'+filename, 'r')\n",
    "    gpx = gpxpy.parse(file)\n",
    "    meta = build_meta(gpx)\n",
    "    data = np.zeros((meta['points'], 5))\n",
    "    n = 0\n",
    "    for track in gpx.tracks:\n",
    "        for segment in track.segments:\n",
    "            for point in segment.points:\n",
    "                t = time.mktime(point.time.timetuple())\n",
    "                data[n, ] = [point.latitude, point.longitude, point.elevation, t, n]\n",
    "                n += 1\n",
    "    return pd.DataFrame({\n",
    "        'latitude': data[:,0],\n",
    "        'longitude': data[:,1],\n",
    "        'elevation': data[:,2],\n",
    "        'timestamp': data[:,3],\n",
    "        'point': data[:,4],\n",
    "        'ride': 0,\n",
    "        'rider': \"\"\n",
    "    })\n",
    "\n",
    "def import_gpx_dir(path):\n",
    "    filenames = [f for f in os.listdir(path) if gpx_filename_pattern.search(f)]    \n",
    "    data = pd.DataFrame()\n",
    "    n = 0\n",
    "    for filename in tqdm(filenames, total=len(filenames)):\n",
    "        dt = import_gpx_file(path, filename)\n",
    "        dt['ride'] = n\n",
    "        n += 1\n",
    "        data = data.append(dt, ignore_index=True)\n",
    "    return data\n",
    "\n",
    "def interpret_gpx(path, name):\n",
    "    data = import_gpx_dir(path)\n",
    "    data[\"rider\"] = name\n",
    "    data.elevation = data.elevation.astype(int)\n",
    "    data.timestamp = data.timestamp.astype(int)\n",
    "    data.point = data.point.astype(int)\n",
    "    #save to cache\n",
    "    cache = open(str(name)+'.pkl', 'wb')\n",
    "    pk.dump(data, cache)\n",
    "    cache.close()\n",
    "    return data\n",
    "\n",
    "def load_gpx(path):\n",
    "    cache = open(path, 'rb')\n",
    "    data = pk.load(cache)\n",
    "    cache.close()\n",
    "    return data\n",
    "\n",
    "def save_data(data, name):\n",
    "    cache = open(name+\".pkl\", 'wb')\n",
    "    pk.dump(data, cache)\n",
    "    cache.close()\n",
    "    \n",
    "def load_data(name):\n",
    "    cache = open(name+\".pkl\", 'rb')\n",
    "    data = pk.load(cache)\n",
    "    cache.close()\n",
    "    return data\n",
    "\n",
    "if(os.path.exists(\"0.pkl\")):\n",
    "    data1 = load_gpx(\"0.pkl\")\n",
    "    data2 = load_gpx(\"1.pkl\")\n",
    "else:\n",
    "    data1 = interpret_gpx(\"/Users/esse/activ/rodrigo_sztelzer\", 0)\n",
    "    data2 = interpret_gpx(\"/Users/esse/activ/marcos_paulo\", 1)\n",
    "\n",
    "imported = data1.append(data2, ignore_index=True)\n",
    "print(imported.shape)"
   ]
  },
  {
   "cell_type": "markdown",
   "metadata": {},
   "source": [
    "# Data preprocessing\n",
    "There will have some steps to have a gooda data shaped to most processes. The idea is to cleanup dirt distances introduced by bad GPS and interpolate the points as to make all rows 1 meter of distance, that will simplify most phisical calculations."
   ]
  },
  {
   "cell_type": "markdown",
   "metadata": {},
   "source": [
    "####  Create destination columns\n",
    "This will transform the list in a origin/destination list of points, so the resulting list is [M-1, N*2]. These new columns are equal to the next row. Finally remove the last element of each ride that has value zero."
   ]
  },
  {
   "cell_type": "code",
   "execution_count": 4,
   "metadata": {
    "collapsed": true,
    "scrolled": true
   },
   "outputs": [],
   "source": [
    "def haversine(lon1, lat1, lon2, lat2):\n",
    "    lon1, lat1, lon2, lat2 = map(np.radians, [lon1, lat1, lon2, lat2])\n",
    "    a = np.sin((lat2-lat1)/2.0)**2 + np.cos(lat1) * np.cos(lat2) * np.sin((lon2-lon1)/2.0)**2\n",
    "    return 6372800 * 2 * np.arcsin(np.sqrt(a))\n",
    "\n",
    "def destiny(dt):\n",
    "    # create a column with the next points\n",
    "    dt = dt.sort_values(['timestamp'])\n",
    "    dt['duration'] = np.roll(dt.timestamp, -1) - dt['timestamp']\n",
    "    dt.drop(dt.tail(1).index, inplace=True) \n",
    "\n",
    "    #repeat the data, set repeats to nan, interpolate nans.\n",
    "    dt = dt.loc[dt.index.repeat(dt.duration)]   # repeat rows n times based on n duration\n",
    "    dt['subindex'] = dt.groupby(level=0).cumcount() # creat an intern index of the repeats\n",
    "    dt[dt.subindex > 0] = np.nan\n",
    "    dt = dt.interpolate()                           # interpolate the nans\n",
    "    dt = dt.reset_index()\n",
    "    del(dt['index'])\n",
    "    del(dt['duration'])\n",
    "    del(dt['subindex'])\n",
    "\n",
    "    dt['ilon'] = dt['longitude']\n",
    "    dt['ilat'] = dt['latitude']\n",
    "    dt['ielev'] = dt['elevation']\n",
    "    dt['itime'] = dt['timestamp']\n",
    "    dt['flon'] = np.roll(dt.longitude, -1)\n",
    "    dt['flat'] = np.roll(dt.latitude, -1)\n",
    "    dt['felev'] = np.roll(dt.elevation, -1)    \n",
    "    dt['ftime'] = np.roll(dt.timestamp, -1)\n",
    "    \n",
    "    del(dt['longitude'])\n",
    "    del(dt['latitude'])\n",
    "    del(dt['timestamp'])\n",
    "    del(dt['elevation'])\n",
    "\n",
    "    dt['dist'] = haversine(dt.ilon, dt.ilat, dt.flon, dt.flat)\n",
    "\n",
    "    dt = dt[dt.dist > 0]\n",
    "    dt = dt[dt.dist < 1000]\n",
    "\n",
    "\n",
    "    \n",
    "    dt['heading'] = np.arctan2(dt.flon-dt.ilon, dt.flat-dt.ilat) * 180 / np.pi\n",
    "    dt['ddist'] = np.roll(dt.dist, -1, 0) - dt.dist\n",
    "    dt.loc[dt.point==0, 'ddist'] = dt.dist\n",
    "    dt['delev'] = dt.felev - dt.ielev\n",
    "    dt['delev'] = np.clip(dt.delev, -1, 1)\n",
    "    dt['climb'] = dt.delev / dt.dist\n",
    "    dt['climb'] = dt['climb'].fillna(0)\n",
    "    \n",
    "    dt.drop(dt.tail(1).index, inplace=True) \n",
    "    \n",
    "    return dt"
   ]
  },
  {
   "cell_type": "code",
   "execution_count": 5,
   "metadata": {
    "collapsed": true,
    "scrolled": true
   },
   "outputs": [],
   "source": [
    "data = imported.groupby(['rider', 'ride'], as_index=True, sort=False).apply(destiny)"
   ]
  },
  {
   "cell_type": "code",
   "execution_count": 6,
   "metadata": {
    "collapsed": true
   },
   "outputs": [],
   "source": [
    "save_data(data, \"grouped\")"
   ]
  },
  {
   "cell_type": "code",
   "execution_count": 7,
   "metadata": {
    "scrolled": false
   },
   "outputs": [
    {
     "data": {
      "image/png": "[encoded data removed]",
      "text/plain": [
       "<matplotlib.figure.Figure at 0x13e82d3c8>"
      ]
     },
     "metadata": {},
     "output_type": "display_data"
    }
   ],
   "source": [
    "ride = 0\n",
    "head = data.loc[0].loc[ride].head(210)\n",
    "tail = data.loc[0].loc[ride].tail(220)\n",
    "\n",
    "plt.figure(figsize=(10,10))\n",
    "plt.quiver(head.ilon, head.ilat, head.flon-head.ilon, head.flat-head.ilat, color=\"blue\", units='xy', angles='xy', scale=1, pivot='tail')\n",
    "plt.quiver(tail.ilon, tail.ilat, tail.flon-tail.ilon, tail.flat-tail.ilat, color=\"red\", units='xy', angles='xy', scale=1, pivot='tail')\n",
    "plt.axis('equal')\n",
    "plt.show()\n"
   ]
  },
  {
   "cell_type": "code",
   "execution_count": 9,
   "metadata": {
    "scrolled": false
   },
   "outputs": [
    {
     "name": "stdout",
     "output_type": "stream",
     "text": [
      "   point  ride  rider       ilon       ilat  ielev         itime       flon  \\\n",
      "0    0.0   0.0    1.0 -46.685961 -23.594525  736.0  1.450308e+09 -46.685954   \n",
      "\n",
      "        flat       felev         ftime      dist     heading     ddist  \\\n",
      "0 -23.594531  735.947368  1.450308e+09  0.989036  131.338064  0.989036   \n",
      "\n",
      "      delev     climb  \n",
      "0 -0.052632 -0.053215  \n"
     ]
    }
   ],
   "source": [
    "print(data.loc[1].loc[0].head(1))"
   ]
  },
  {
   "cell_type": "code",
   "execution_count": null,
   "metadata": {
    "collapsed": true
   },
   "outputs": [],
   "source": []
  }
 ],
 "metadata": {
  "kernelspec": {
   "display_name": "Python 3",
   "language": "python",
   "name": "python3"
  },
  "language_info": {
   "codemirror_mode": {
    "name": "ipython",
    "version": 3
   },
   "file_extension": ".py",
   "mimetype": "text/x-python",
   "name": "python",
   "nbconvert_exporter": "python",
   "pygments_lexer": "ipython3",
   "version": "3.6.2"
  }
 },
 "nbformat": 4,
 "nbformat_minor": 2
}
