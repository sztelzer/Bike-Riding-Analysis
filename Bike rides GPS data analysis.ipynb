{
 "cells": [
  {
   "cell_type": "markdown",
   "metadata": {},
   "source": [
    "# Raw data importing\n",
    "Our primary goal here is to import, interpolate, and extend our bike riding GPS data. It'll be somewhat complicated as it is not small task on code, but using vectorization on all processes will keep execution really fast. We have for this task about 1.7M datapoints. Each datapoint corresponds to a fancy **one point in space time**, i.e. one point made of 4 dimensions of timestamp, latitude, longitude and elevation. We hope that connection each one sequentially on time will render a path that a biker rode. To guarantee bookeeping and post processing capabilities, we will record the point id, ride id and rider id."
   ]
  },
  {
   "cell_type": "code",
   "execution_count": 654,
   "metadata": {
    "collapsed": true
   },
   "outputs": [],
   "source": [
    "# import needed packages\n",
    "import gpxpy\n",
    "import datetime \n",
    "import time\n",
    "import matplotlib.pyplot as plt\n",
    "import matplotlib.colors as colors\n",
    "import os\n",
    "import numpy as np\n",
    "import re\n",
    "import sys\n",
    "import pandas as pd\n",
    "import pickle as pk\n",
    "from tqdm import tqdm_notebook as tqdm\n",
    "from geopy.distance import great_circle\n",
    "# from scipy.signal import gaussian\n",
    "# from scipy.ndimage import filters\n",
    "from scipy.ndimage.filters import gaussian_filter\n",
    "from mpl_toolkits.axes_grid1 import make_axes_locatable\n",
    "import nvector as nv\n",
    "from pandas.plotting import andrews_curves"
   ]
  },
  {
   "cell_type": "code",
   "execution_count": 744,
   "metadata": {
    "scrolled": true
   },
   "outputs": [
    {
     "name": "stdout",
     "output_type": "stream",
     "text": [
      "(1739684, 7)\n",
      "   elevation   latitude  longitude  point  ride  rider   timestamp\n",
      "0        747 -23.562747 -46.691410      0     0      0  1496509570\n",
      "1        749 -23.562589 -46.691241      1     0      0  1496509607\n",
      "2        750 -23.562554 -46.691224      2     0      0  1496509609\n",
      "3        750 -23.562522 -46.691213      3     0      0  1496509610\n",
      "4        750 -23.562473 -46.691212      4     0      0  1496509611\n"
     ]
    }
   ],
   "source": [
    "# import the gpx data\n",
    "gpx_filename_pattern = re.compile(\"(gpx)$\")\n",
    "def build_meta(gpx): \n",
    "    meta = {\n",
    "        \"tracks\": 0,\n",
    "        \"segments\": 0,\n",
    "        \"points\": 0\n",
    "    }\n",
    "    for track in gpx.tracks:\n",
    "        meta[\"tracks\"] += 1\n",
    "        for segment in track.segments:\n",
    "            meta[\"segments\"] += 1\n",
    "            for point in segment.points:\n",
    "                meta[\"points\"] += 1\n",
    "    return meta\n",
    "\n",
    "def import_gpx_file(path, filename):\n",
    "    build_meta\n",
    "    file = open(path+'/'+filename, 'r')\n",
    "    gpx = gpxpy.parse(file)\n",
    "    meta = build_meta(gpx)\n",
    "    data = np.zeros((meta['points'], 5))\n",
    "    n = 0\n",
    "    for track in gpx.tracks:\n",
    "        for segment in track.segments:\n",
    "            for point in segment.points:\n",
    "                t = time.mktime(point.time.timetuple())\n",
    "                data[n, ] = [point.latitude, point.longitude, point.elevation, t, n]\n",
    "                n += 1\n",
    "    return pd.DataFrame({\n",
    "        'latitude': data[:,0],\n",
    "        'longitude': data[:,1],\n",
    "        'elevation': data[:,2],\n",
    "        'timestamp': data[:,3],\n",
    "        'point': data[:,4],\n",
    "        'ride': 0,\n",
    "        'rider': \"\"\n",
    "    })\n",
    "\n",
    "def import_gpx_dir(path):\n",
    "    filenames = [f for f in os.listdir(path) if gpx_filename_pattern.search(f)]    \n",
    "    data = pd.DataFrame()\n",
    "    n = 0\n",
    "    for filename in tqdm(filenames, total=len(filenames)):\n",
    "        dt = import_gpx_file(path, filename)\n",
    "        dt['ride'] = n\n",
    "        n += 1\n",
    "        data = data.append(dt, ignore_index=True)\n",
    "    return data\n",
    "\n",
    "def interpret_gpx(path, name):\n",
    "    data = import_gpx_dir(path)\n",
    "    data[\"rider\"] = name\n",
    "    data.elevation = data.elevation.astype(int)\n",
    "    data.timestamp = data.timestamp.astype(int)\n",
    "    data.point = data.point.astype(int)\n",
    "    #save to cache\n",
    "    cache = open(str(name)+'.pkl', 'wb')\n",
    "    pk.dump(data, cache)\n",
    "    cache.close()\n",
    "    return data\n",
    "\n",
    "def load_gpx(path):\n",
    "    cache = open(path, 'rb')\n",
    "    data = pk.load(cache)\n",
    "    cache.close()\n",
    "    return data\n",
    "\n",
    "def save_data(data, name):\n",
    "    cache = open(name+\".pkl\", 'wb')\n",
    "    pk.dump(data, cache)\n",
    "    cache.close()\n",
    "    \n",
    "def load_data(name):\n",
    "    cache = open(name+\".pkl\", 'rb')\n",
    "    data = pk.load(cache)\n",
    "    cache.close()\n",
    "    return data\n",
    "\n",
    "if(os.path.exists(\"0.pkl\")):\n",
    "    data1 = load_gpx(\"0.pkl\")\n",
    "    data2 = load_gpx(\"1.pkl\")\n",
    "else:\n",
    "    data1 = interpret_gpx(\"/Users/esse/activ/rodrigo_sztelzer\", 0)\n",
    "    data2 = interpret_gpx(\"/Users/esse/activ/marcos_paulo\", 1)\n",
    "\n",
    "data = data1.append(data2, ignore_index=True)\n",
    "print(data.shape)\n",
    "print(data.head())"
   ]
  },
  {
   "cell_type": "markdown",
   "metadata": {},
   "source": [
    "# Data processing\n",
    "There will have some steps to have a gooda data shaped to most processes. The idea is to cleanup dirt distances introduced by bad GPS and interpolate the points as to make all rows 1 meter of distance, that will simplify most phisical calculations."
   ]
  },
  {
   "cell_type": "markdown",
   "metadata": {},
   "source": [
    "####  Create destination columns\n",
    "This will transform the list in a origin/destination list of points, so the resulting list is [M-1, N*2]. These new columns are equal to the next row. Finally remove the last element of each ride that has value zero."
   ]
  },
  {
   "cell_type": "code",
   "execution_count": 745,
   "metadata": {
    "scrolled": true
   },
   "outputs": [],
   "source": [
    "# create a column with the next points\n",
    "dt = data.copy()\n",
    "# del(dt['longitude'])\n",
    "# del(dt['latitude'])\n",
    "dt['ilon'] = data['longitude']\n",
    "dt['ilat'] = data['latitude']\n",
    "dt['itime'] = dt['timestamp']\n",
    "dt['ielev'] = dt['elevation']\n",
    "\n",
    "dt['flon'] = np.roll(data.longitude, -1, 0)\n",
    "dt['flat'] = np.roll(data.latitude, -1, 0)\n",
    "dt['ftime'] = np.roll(data.timestamp, -1, 0)\n",
    "dt['felev'] = np.roll(data.elevation, -1, 0)\n",
    "\n",
    "inverseid = dt.groupby(['rider','ride']).cumcount(ascending=False)\n",
    "dt = dt[inverseid > 0]\n",
    "\n",
    "del(dt['longitude'])\n",
    "del(dt['latitude'])\n",
    "del(dt['timestamp'])\n",
    "del(dt['elevation'])\n",
    "\n",
    "data = dt.copy()\n",
    "del(dt)"
   ]
  },
  {
   "cell_type": "markdown",
   "metadata": {},
   "source": [
    "## Constant Time\n",
    "We need to make time constant to see odd values and simplify most phisics calculations."
   ]
  },
  {
   "cell_type": "code",
   "execution_count": 746,
   "metadata": {},
   "outputs": [],
   "source": [
    "data = data.sort_values(['rider', 'itime'])\n",
    "data['duration'] = data.ftime - data.itime\n",
    "\n",
    "# shorten pauses longer than 1 minute.\n",
    "data[data.duration > 60] == 60\n",
    "\n",
    "#repeat the data, set repeats to nan, interpolate nans.\n",
    "data = data.loc[data.index.repeat(data.duration)]\n",
    "data['subindex'] = data.groupby(level=0).cumcount()\n",
    "data[data.subindex > 0] = np.nan\n",
    "data = data.interpolate()\n",
    "\n",
    "# clear unused columns\n",
    "del data['duration']\n",
    "del data['subindex']"
   ]
  },
  {
   "cell_type": "markdown",
   "metadata": {},
   "source": [
    "#### Calculate distances based on the Great Circle of Earth radius."
   ]
  },
  {
   "cell_type": "code",
   "execution_count": 747,
   "metadata": {},
   "outputs": [],
   "source": [
    "def haversine(lon1, lat1, lon2, lat2):\n",
    "    lon1, lat1, lon2, lat2 = map(np.radians, [lon1, lat1, lon2, lat2])\n",
    "    a = np.sin((lat2-lat1)/2.0)**2 + np.cos(lat1) * np.cos(lat2) * np.sin((lon2-lon1)/2.0)**2\n",
    "    return 6372800 * 2 * np.arcsin(np.sqrt(a))\n",
    "\n",
    "data['dist'] = haversine(data.ilon, data.ilat, data.flon, data.flat)"
   ]
  },
  {
   "cell_type": "markdown",
   "metadata": {},
   "source": [
    "#### Remove odd distances.\n",
    "We can see in the plot that there are no strange vectors on the start and end of a ride."
   ]
  },
  {
   "cell_type": "code",
   "execution_count": 748,
   "metadata": {},
   "outputs": [],
   "source": [
    "data = data[data.dist<=20]\n",
    "data = data[data.dist>0]"
   ]
  },
  {
   "cell_type": "code",
   "execution_count": 733,
   "metadata": {
    "scrolled": false
   },
   "outputs": [
    {
     "data": {
      "image/png": "[encoded data removed]",
      "text/plain": [
       "<matplotlib.figure.Figure at 0x11e30def0>"
      ]
     },
     "metadata": {},
     "output_type": "display_data"
    }
   ],
   "source": [
    "seg = data[data.rider==0]\n",
    "seg = seg[seg.ride==1]\n",
    "head = seg.head(200)\n",
    "tail = seg.tail(260)\n",
    "\n",
    "plt.figure(figsize=(10,10))\n",
    "plt.quiver(head.ilon, head.ilat, head.flon-head.ilon, head.flat-head.ilat, color=\"blue\", units='xy', angles='xy', scale=1, pivot='tail')\n",
    "plt.quiver(tail.ilon, tail.ilat, tail.flon-tail.ilon, tail.flat-tail.ilat, color=\"red\", units='xy', angles='xy', scale=1, pivot='tail')\n",
    "plt.axis('equal')\n",
    "plt.show()\n"
   ]
  },
  {
   "cell_type": "code",
   "execution_count": 749,
   "metadata": {
    "collapsed": true
   },
   "outputs": [],
   "source": [
    "save_data(data, \"vectorized\")"
   ]
  },
  {
   "cell_type": "markdown",
   "metadata": {},
   "source": [
    "## Extending\n",
    "Now, lets calculate other variables."
   ]
  },
  {
   "cell_type": "code",
   "execution_count": 750,
   "metadata": {
    "collapsed": true
   },
   "outputs": [],
   "source": [
    "# create a column with angle in degrees\n",
    "data['heading'] = np.arctan2(data.flon-data.ilon, data.flat-data.ilat) * 180 / np.pi\n",
    "data.loc[data.point==0, 'heading'] = 0"
   ]
  },
  {
   "cell_type": "code",
   "execution_count": 751,
   "metadata": {
    "collapsed": true
   },
   "outputs": [],
   "source": [
    "# column with deltadistance (acceleration)\n",
    "data['ddist'] = np.roll(data.dist, 1, 0) - data.dist\n",
    "data.loc[data.point==0, 'ddist'] = 0"
   ]
  },
  {
   "cell_type": "code",
   "execution_count": 752,
   "metadata": {},
   "outputs": [],
   "source": [
    "# delta elevation\n",
    "data['delev'] = data.felev - data.ielev\n",
    "data['delev'] = np.clip(data.delev, -1, 1)\n",
    "# climbrate\n",
    "data['climb'] = data.delev / data.dist\n",
    "data['climb'] = np.clip(data['climb'], -1, 1)"
   ]
  },
  {
   "cell_type": "markdown",
   "metadata": {},
   "source": [
    "Make a checkpoint of the data."
   ]
  },
  {
   "cell_type": "code",
   "execution_count": 753,
   "metadata": {
    "collapsed": true
   },
   "outputs": [],
   "source": [
    "save_data(data, \"extended\")"
   ]
  },
  {
   "cell_type": "code",
   "execution_count": 109,
   "metadata": {
    "collapsed": true
   },
   "outputs": [],
   "source": [
    "data = load_data(\"extended\")"
   ]
  },
  {
   "cell_type": "markdown",
   "metadata": {},
   "source": [
    "# Seeing the data"
   ]
  },
  {
   "cell_type": "code",
   "execution_count": 754,
   "metadata": {},
   "outputs": [
    {
     "data": {
      "image/png": "[encoded data removed]",
      "text/plain": [
       "<matplotlib.figure.Figure at 0x137f5e0f0>"
      ]
     },
     "metadata": {},
     "output_type": "display_data"
    }
   ],
   "source": [
    "plt.hist(data.dist, bins=20, color='black')\n",
    "plt.show()"
   ]
  },
  {
   "cell_type": "markdown",
   "metadata": {},
   "source": [
    "# Simple plot one ride"
   ]
  },
  {
   "cell_type": "code",
   "execution_count": 757,
   "metadata": {
    "scrolled": false
   },
   "outputs": [
    {
     "data": {
      "image/png": "[encoded data removed]",
      "text/plain": [
       "<matplotlib.figure.Figure at 0x160ef55f8>"
      ]
     },
     "metadata": {},
     "output_type": "display_data"
    }
   ],
   "source": [
    "seg = data[data.rider==0]\n",
    "seg = seg[seg.ride==0]\n",
    "\n",
    "# this will print the sum of seconds. A greater than 2000\n",
    "plt.figure(figsize=(10,10))\n",
    "plt.subplot(111).plot(seg.ilon, seg.ilat, linewidth=0.5)\n",
    "plt.axis('equal')\n",
    "plt.show()"
   ]
  },
  {
   "cell_type": "markdown",
   "metadata": {},
   "source": [
    "# Viewing the Speed"
   ]
  },
  {
   "cell_type": "code",
   "execution_count": 761,
   "metadata": {},
   "outputs": [],
   "source": [
    "seg = data.copy()\n",
    "\n",
    "seg = seg[seg.ilat > -23.63] #east boundary\n",
    "seg = seg[seg.ilat < -23.50] #west boundary\n",
    "seg = seg[seg.ilon > -46.76] #north boundary\n",
    "seg = seg[seg.ilon < -46.60] #south boundary\n",
    "\n",
    "seg['glat'] = np.around(seg.ilat, 4)\n",
    "seg['glon'] = np.around(seg.ilon, 4)\n",
    "seg['gdir'] = round(seg.heading/45)*45\n",
    "\n",
    "group = seg.groupby(['glat', 'glon', 'gdir'], axis=0)\n",
    "distancemean = pd.DataFrame(group['dist'].mean())\n",
    "latmean = pd.DataFrame(group['ilat'].mean())\n",
    "lonmean = pd.DataFrame(group['ilon'].mean())\n",
    "\n",
    "seg = seg.merge(latmean, left_on=['glat', 'glon', 'gdir'], right_index=True, suffixes=('', 'mean'))\n",
    "seg = seg.merge(lonmean, left_on=['glat', 'glon', 'gdir'], right_index=True, suffixes=('', 'mean'))\n",
    "seg = seg.merge(distancemean, left_on=['glat', 'glon', 'gdir'], right_index=True, suffixes=('', 'mean'))\n",
    "\n",
    "seg = seg.sort_values(['rider', 'itime'])"
   ]
  },
  {
   "cell_type": "code",
   "execution_count": 767,
   "metadata": {
    "scrolled": false
   },
   "outputs": [
    {
     "name": "stderr",
     "output_type": "stream",
     "text": [
      "WARNING: Copying discontiguous data for struct dtype:\n",
      "  File \"/usr/local/Cellar/python3/3.6.2/Frameworks/Python.framework/Versions/3.6/lib/python3.6/runpy.py\", line 193, in _run_module_as_main\n",
      "    \"__main__\", mod_spec)\n",
      "\n"
     ]
    },
    {
     "data": {
      "application/vnd.jupyter.widget-view+json": {
       "model_id": "4aa2083c5a7541a09e54700e5f8c3773"
      }
     },
     "metadata": {},
     "output_type": "display_data"
    },
    {
     "name": "stderr",
     "output_type": "stream",
     "text": [
      "IOPub data rate exceeded.\n",
      "The notebook server will temporarily stop sending output\n",
      "to the client in order to avoid crashing it.\n",
      "To change this limit, set the config variable\n",
      "`--NotebookApp.iopub_data_rate_limit`.\n"
     ]
    }
   ],
   "source": [
    "from sklearn.preprocessing import MinMaxScaler\n",
    "scaler = MinMaxScaler()\n",
    "\n",
    "xy = seg[['flon','flat']]\n",
    "# xy = pd.DataFrame([lonmean, latmean])\n",
    "di = seg[['dist']]\n",
    "\n",
    "s = pd.DataFrame(scaler.fit_transform(xy), columns=[\"ilon\", \"ilat\"])\n",
    "s = (s - 0.38) * 8\n",
    "\n",
    "color = pd.DataFrame(scaler.fit_transform(di))\n",
    "\n",
    "from vispy import app\n",
    "from vispy import gloo\n",
    "c = app.Canvas(keys='interactive')\n",
    "\n",
    "vertex = \"\"\"\n",
    "attribute vec2 a_position;\n",
    "void main (void)\n",
    "{\n",
    "    gl_Position = vec4(a_position, 0.0, 1.0);\n",
    "}\n",
    "\"\"\"\n",
    "\n",
    "fragment = \"\"\"\n",
    "void main()\n",
    "{\n",
    "    gl_FragColor = vec4(0.0, 0.0, 0.0, 1.0);\n",
    "}\n",
    "\"\"\"\n",
    "program = gloo.Program(vertex, fragment)\n",
    "\n",
    "program['a_position'] = np.c_[s.astype(np.float32)]\n",
    "\n",
    "@c.connect\n",
    "def on_resize(event):\n",
    "    gloo.set_viewport(1, 1, *event.size)\n",
    "\n",
    "@c.connect\n",
    "def on_draw(event):\n",
    "    gloo.clear((1,1,1,1))\n",
    "    program.draw('line_strip')\n",
    "    \n",
    "c.show()\n",
    "app.run()"
   ]
  },
  {
   "cell_type": "code",
   "execution_count": null,
   "metadata": {
    "collapsed": true
   },
   "outputs": [],
   "source": []
  }
 ],
 "metadata": {
  "kernelspec": {
   "display_name": "Python 3",
   "language": "python",
   "name": "python3"
  },
  "language_info": {
   "codemirror_mode": {
    "name": "ipython",
    "version": 3
   },
   "file_extension": ".py",
   "mimetype": "text/x-python",
   "name": "python",
   "nbconvert_exporter": "python",
   "pygments_lexer": "ipython3",
   "version": "3.6.2"
  }
 },
 "nbformat": 4,
 "nbformat_minor": 2
}
