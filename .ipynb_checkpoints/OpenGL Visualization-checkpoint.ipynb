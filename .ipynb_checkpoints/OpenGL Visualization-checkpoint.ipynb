{
 "cells": [
  {
   "cell_type": "code",
   "execution_count": 1,
   "metadata": {
    "collapsed": true
   },
   "outputs": [],
   "source": [
    "import pickle as pk\n",
    "import pandas as pd\n",
    "import numpy as np\n",
    "from sklearn.preprocessing import MinMaxScaler\n",
    "from vispy import app as vapp\n",
    "from vispy import gloo"
   ]
  },
  {
   "cell_type": "code",
   "execution_count": 2,
   "metadata": {},
   "outputs": [
    {
     "data": {
      "text/plain": [
       "(3038402, 16)"
      ]
     },
     "execution_count": 2,
     "metadata": {},
     "output_type": "execute_result"
    }
   ],
   "source": [
    "cachefile = open(\"extended.pkl\", 'rb')\n",
    "data = pk.load(cachefile)\n",
    "cachefile.close()\n",
    "data.shape"
   ]
  },
  {
   "cell_type": "code",
   "execution_count": 3,
   "metadata": {
    "collapsed": true
   },
   "outputs": [],
   "source": [
    "seg = data\n",
    "\n",
    "# seg = seg[seg.ilat > -23.63] #east boundary\n",
    "# seg = seg[seg.ilat < -23.50] #west boundary\n",
    "# seg = seg[seg.ilon > -46.76] #north boundary\n",
    "# seg = seg[seg.ilon < -46.60] #south boundary\n",
    "\n",
    "# seg['glat'] = np.around(seg.ilat, 4)\n",
    "# seg['glon'] = np.around(seg.ilon, 4)\n",
    "# seg['gdir'] = round(seg.heading/45)*45\n",
    "\n",
    "# group = seg.groupby(['glat', 'glon', 'gdir'], axis=0)\n",
    "# distancemean = pd.DataFrame(group['dist'].mean())\n",
    "# latmean = pd.DataFrame(group['ilat'].mean())\n",
    "# lonmean = pd.DataFrame(group['ilon'].mean())\n",
    "\n",
    "# seg = seg.merge(latmean, left_on=['glat', 'glon', 'gdir'], right_index=True, suffixes=('', 'mean'))\n",
    "# seg = seg.merge(lonmean, left_on=['glat', 'glon', 'gdir'], right_index=True, suffixes=('', 'mean'))\n",
    "# seg = seg.merge(distancemean, left_on=['glat', 'glon', 'gdir'], right_index=True, suffixes=('', 'mean'))\n",
    "\n",
    "# seg = seg.sort_values(['rider', 'itime'])\n",
    "\n",
    "\n"
   ]
  },
  {
   "cell_type": "code",
   "execution_count": 3,
   "metadata": {},
   "outputs": [],
   "source": [
    "# xy = seg[['ilon','ilat']]\n",
    "xy = np.matrix([\n",
    "    [1.,0.],\n",
    "    [0.,1.]\n",
    "])\n",
    "\n",
    "scaler = MinMaxScaler()\n",
    "s = pd.DataFrame(scaler.fit_transform(xy))\n",
    "s = (s - 0.38) * 8\n",
    "\n",
    "\n",
    "\n",
    "c = vapp.Canvas(keys='interactive')\n",
    "\n",
    "vertex = \"\"\"\n",
    "attribute vec2 a_position;\n",
    "void main (void)\n",
    "{\n",
    "    gl_Position = vec4(a_position, 0.0, 1.0);\n",
    "}\n",
    "\"\"\"\n",
    "\n",
    "fragment = \"\"\"\n",
    "void main()\n",
    "{\n",
    "    gl_FragColor = vec4(0.0, 0.0, 0.0, 1.0);\n",
    "}\n",
    "\"\"\"\n",
    "\n",
    "program = gloo.Program(vertex, fragment)\n",
    "\n",
    "program['a_position'] = np.c_[xy.astype(np.float32)]\n",
    "\n",
    "@c.connect\n",
    "def on_resize(event):\n",
    "    gloo.set_viewport(1, 1, *event.size)\n",
    "\n",
    "@c.connect\n",
    "def on_draw(event):\n",
    "    gloo.clear((1,1,1,1))\n",
    "    program.draw('points')\n",
    "    \n",
    "c.show()\n",
    "vapp.run()"
   ]
  },
  {
   "cell_type": "code",
   "execution_count": null,
   "metadata": {
    "collapsed": true
   },
   "outputs": [],
   "source": []
  }
 ],
 "metadata": {
  "kernelspec": {
   "display_name": "Python 3",
   "language": "python",
   "name": "python3"
  },
  "language_info": {
   "codemirror_mode": {
    "name": "ipython",
    "version": 3
   },
   "file_extension": ".py",
   "mimetype": "text/x-python",
   "name": "python",
   "nbconvert_exporter": "python",
   "pygments_lexer": "ipython3",
   "version": "3.6.2"
  }
 },
 "nbformat": 4,
 "nbformat_minor": 2
}
